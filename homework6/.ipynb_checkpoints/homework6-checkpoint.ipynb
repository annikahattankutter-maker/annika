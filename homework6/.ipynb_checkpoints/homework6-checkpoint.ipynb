{
 "cells": [
  {
   "cell_type": "code",
   "execution_count": 1,
   "id": "59b951e0-bf35-408d-a6e7-d21933559bfd",
   "metadata": {},
   "outputs": [],
   "source": [
    "import numpy as np"
   ]
  },
  {
   "cell_type": "code",
   "execution_count": 27,
   "id": "bc693d79-0a16-4829-a9d5-56dfd3a5c99b",
   "metadata": {},
   "outputs": [
    {
     "name": "stdout",
     "output_type": "stream",
     "text": [
      "80\n",
      "108\n",
      "36\n",
      "48\n",
      "124\n",
      "68\n",
      "16\n",
      "200\n",
      "156\n",
      "140\n",
      "24.4\n",
      "23.5\n",
      "13.828955130450023\n",
      "7\n",
      "6\n",
      "50\n",
      "4\n",
      "[False  True False False  True False False  True  True  True]\n",
      "[27 31 50 39 35]\n"
     ]
    }
   ],
   "source": [
    "list = [20, 27, 9, 12, 31, 17, 4, 50, 39, 35]\n",
    "for i in list:\n",
    "    print(i*4)\n",
    "\n",
    "print(np.mean(list))\n",
    "print(np.median(list))\n",
    "print(np.std(list))\n",
    "print(np.argmax(list))\n",
    "print(np.argmin(list))\n",
    "print(np.max(list))\n",
    "print(np.min(list))\n",
    "\n",
    "arr = np.array(list)\n",
    "\n",
    "condition = arr > 20\n",
    "print(condition)\n",
    "\n",
    "new_arr = arr[condition]\n",
    "print(new_arr)"
   ]
  },
  {
   "cell_type": "code",
   "execution_count": null,
   "id": "f950e0bd-fa75-4469-a40a-f29053f91692",
   "metadata": {},
   "outputs": [],
   "source": [
    "matrix = [[5, 12, 17, 9],\n",
    "          [8, 21, 14, 3],\n",
    "          [6, 13, 19, 11]]\n"
   ]
  }
 ],
 "metadata": {
  "kernelspec": {
   "display_name": "Python [conda env:base] *",
   "language": "python",
   "name": "conda-base-py"
  },
  "language_info": {
   "codemirror_mode": {
    "name": "ipython",
    "version": 3
   },
   "file_extension": ".py",
   "mimetype": "text/x-python",
   "name": "python",
   "nbconvert_exporter": "python",
   "pygments_lexer": "ipython3",
   "version": "3.13.5"
  }
 },
 "nbformat": 4,
 "nbformat_minor": 5
}
