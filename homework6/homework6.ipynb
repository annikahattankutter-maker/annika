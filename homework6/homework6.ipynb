{
 "cells": [
  {
   "cell_type": "code",
   "execution_count": 38,
   "id": "59b951e0-bf35-408d-a6e7-d21933559bfd",
   "metadata": {},
   "outputs": [],
   "source": [
    "import numpy as np"
   ]
  },
  {
   "cell_type": "code",
   "execution_count": 39,
   "id": "bc693d79-0a16-4829-a9d5-56dfd3a5c99b",
   "metadata": {},
   "outputs": [
    {
     "name": "stdout",
     "output_type": "stream",
     "text": [
      "80\n",
      "108\n",
      "36\n",
      "48\n",
      "124\n",
      "68\n",
      "16\n",
      "200\n",
      "156\n",
      "140\n",
      "24.4\n",
      "23.5\n",
      "13.828955130450023\n",
      "7\n",
      "6\n",
      "50\n",
      "4\n",
      "[False  True False False  True False False  True  True  True]\n",
      "[27 31 50 39 35]\n"
     ]
    }
   ],
   "source": [
    "# ---- 1D Numpy Arrays ----\n",
    "list = [20, 27, 9, 12, 31, 17, 4, 50, 39, 35]\n",
    "for i in list:\n",
    "    print(i*4)\n",
    "\n",
    "print(np.mean(list))\n",
    "print(np.median(list))\n",
    "print(np.std(list))\n",
    "print(np.argmax(list))\n",
    "print(np.argmin(list))\n",
    "print(np.max(list))\n",
    "print(np.min(list))\n",
    "\n",
    "arr = np.array(list)\n",
    "\n",
    "condition = arr > 20\n",
    "print(condition)\n",
    "\n",
    "new_arr = arr[condition]\n",
    "print(new_arr)"
   ]
  },
  {
   "cell_type": "code",
   "execution_count": 40,
   "id": "f950e0bd-fa75-4469-a40a-f29053f91692",
   "metadata": {},
   "outputs": [
    {
     "name": "stdout",
     "output_type": "stream",
     "text": [
      "(3, 4)\n",
      "[17 14 19]\n",
      "[ 8 21 14  3]\n",
      "[[10 24 34 18]\n",
      " [16 42 28  6]\n",
      " [12 26 38 22]]\n",
      "[ 6.33333333 15.33333333 16.66666667  7.66666667]\n",
      "11.5\n",
      "[ 8 21 19 11]\n",
      "[ 5 12 14  3]\n",
      "[ 5 12 17  9  8 21 14  3  6 13 19 11]\n",
      "5\n",
      "7\n",
      "(np.int64(1), np.int64(1))\n",
      "(np.int64(1), np.int64(3))\n",
      "[17 21 19]\n",
      "[[ 5  9 12 17]\n",
      " [ 3  8 14 21]\n",
      " [ 6 11 13 19]]\n"
     ]
    }
   ],
   "source": [
    "# ---- 2D Numpy Arrays ----\n",
    "matrix = [[5, 12, 17, 9],\n",
    "          [8, 21, 14, 3],\n",
    "          [6, 13, 19, 11]]\n",
    "print(np.shape(matrix))\n",
    "\n",
    "arr = np.array(matrix)\n",
    "print(arr[:, 2])\n",
    "print(arr[1, :])\n",
    "print(arr*2)\n",
    "\n",
    "column_mean = np.mean(arr, axis = 0)\n",
    "print(column_mean)\n",
    "\n",
    "overall_mean = np.mean(matrix)\n",
    "print(overall_mean)\n",
    "\n",
    "find_max = np.max(arr, axis = 0)\n",
    "print(find_max)\n",
    "find_min = np.min(arr, axis = 0)\n",
    "print(find_min)\n",
    "\n",
    "print(arr.flatten())\n",
    "# flatten() displayed the nested list in one line horizontally.\n",
    "\n",
    "flat = arr.flatten()\n",
    "print(np.argmax(flat))\n",
    "print(np.argmin(flat))\n",
    "\n",
    "print(np.unravel_index(np.argmax(flat), arr.shape))\n",
    "print(np.unravel_index(np.argmin(flat), arr.shape))\n",
    "\n",
    "\n",
    "boolean_arr = arr[arr > 15]\n",
    "print(boolean_arr)\n",
    "\n",
    "sorted_array = np.sort(arr)\n",
    "print(sorted_array)"
   ]
  },
  {
   "cell_type": "code",
   "execution_count": 41,
   "id": "11eff133-e133-444f-b0b2-418bb7df5345",
   "metadata": {},
   "outputs": [
    {
     "name": "stdout",
     "output_type": "stream",
     "text": [
      "[[ 2  3  5]\n",
      " [11 13 17]\n",
      " [ 7 10 13]]\n"
     ]
    }
   ],
   "source": [
    "# ---- Prime Star Systems ----\n",
    "arr = np.array([\n",
    "    [2, 3, 5],\n",
    "    [14, 6, 8],\n",
    "    [11, 13, 17],\n",
    "    [7, 10, 13]])\n",
    "\n",
    "def remove_nonprime_rows(array):\n",
    "    keep_rows = []\n",
    "    for row in array:\n",
    "        has_prime = False\n",
    "        for n in row:\n",
    "            if n >= 2:\n",
    "                is_prime = True\n",
    "                for i in range(2, n // 2 + 1):\n",
    "                    if n % i == 0:\n",
    "                        is_prime = False\n",
    "                if is_prime:\n",
    "                    has_prime = True\n",
    "        if has_prime:\n",
    "            keep_rows += [row]\n",
    "    return np.array(keep_rows)\n",
    "\n",
    "print(remove_nonprime_rows(arr))      "
   ]
  },
  {
   "cell_type": "code",
   "execution_count": 42,
   "id": "44026201-cbec-4056-922d-73d5f3d16066",
   "metadata": {},
   "outputs": [
    {
     "name": "stdout",
     "output_type": "stream",
     "text": [
      "[[1 0 1 0 1 0 1 0]\n",
      " [0 1 0 1 0 1 0 1]\n",
      " [1 0 1 0 1 0 1 0]\n",
      " [0 1 0 1 0 1 0 1]\n",
      " [1 0 1 0 1 0 1 0]\n",
      " [0 1 0 1 0 1 0 1]\n",
      " [1 0 1 0 1 0 1 0]\n",
      " [0 1 0 1 0 1 0 1]]\n",
      "[[0 1 0 1 0 1 0 1]\n",
      " [1 0 1 0 1 0 1 0]\n",
      " [0 1 0 1 0 1 0 1]\n",
      " [1 0 1 0 1 0 1 0]\n",
      " [0 1 0 1 0 1 0 1]\n",
      " [1 0 1 0 1 0 1 0]\n",
      " [0 1 0 1 0 1 0 1]\n",
      " [1 0 1 0 1 0 1 0]]\n"
     ]
    }
   ],
   "source": [
    "# ---- Lets Play Checkers ----\n",
    "def zero_array():\n",
    "    arr = np.zeros((8, 8), dtype = 'int')\n",
    "    for i in range(0, 8, 2):\n",
    "        arr[i, ::2] = 1\n",
    "        arr[1::2, 1::2] = 1\n",
    "    return arr\n",
    "print(zero_array()) \n",
    "\n",
    "def reverse_checkerboard():\n",
    "    arr = np.zeros((8, 8), dtype = 'int')\n",
    "    arr[::2, 1::2] = 1 \n",
    "    arr[1::2, ::2] = 1 \n",
    "    \n",
    "    return arr\n",
    "\n",
    "print(reverse_checkerboard())"
   ]
  },
  {
   "cell_type": "code",
   "execution_count": 48,
   "id": "99ddb83b-40e9-47ae-9add-446bcb02c7e7",
   "metadata": {},
   "outputs": [
    {
     "name": "stdout",
     "output_type": "stream",
     "text": [
      "['c' 'l' 'u' 's' 't' 'e' 'r']\n"
     ]
    }
   ],
   "source": [
    "# ---- Expanding Universe ----\n",
    "def expand_str(words, spaces):\n",
    "    space_str = \" \" * spaces\n",
    "    expanded = []\n",
    "    for word in words:\n",
    "        new_word = \"\"\n",
    "        for letter in word[: -1]:\n",
    "            new_word += letter + space_str\n",
    "        new_word += word[-1]\n",
    "        expanded.append(new_word)\n",
    "    return np.array(expanded)  \n",
    "print(expand_str(\"cluster\", 1))"
   ]
  },
  {
   "cell_type": "code",
   "execution_count": 59,
   "id": "1ca147d9-14fb-43e6-9784-bd3214efc5c4",
   "metadata": {},
   "outputs": [
    {
     "name": "stdout",
     "output_type": "stream",
     "text": [
      "[[1889 1906 1846 1622 1541]\n",
      " [ 606 1647 1738  596  613]\n",
      " [1138  547  573 1442  724]\n",
      " [ 611 1933 1863 1346 1777]\n",
      " [ 920 1108 1732 1592  951]]\n",
      "[1889 1647 1138 1863 1592]\n"
     ]
    }
   ],
   "source": [
    "# ---- Second Brightest Star ----\n",
    "\n",
    "\n",
    "def second_brightest(arr):\n",
    "    sorted_rows = np.sort(arr, axis = 1)[:, ::-1]\n",
    "    second_value = sorted_rows[:, 1]\n",
    "    return second_value\n",
    "\n",
    "np.random.seed(123)\n",
    "stars = np.random.randint(500, 2000, (5, 5))\n",
    "print(stars)\n",
    "print(second_brightest(stars))\n"
   ]
  },
  {
   "cell_type": "code",
   "execution_count": null,
   "id": "b64c5694-bc43-4f08-ab8b-bae2262d9a7f",
   "metadata": {},
   "outputs": [],
   "source": []
  }
 ],
 "metadata": {
  "kernelspec": {
   "display_name": "Python [conda env:base] *",
   "language": "python",
   "name": "conda-base-py"
  },
  "language_info": {
   "codemirror_mode": {
    "name": "ipython",
    "version": 3
   },
   "file_extension": ".py",
   "mimetype": "text/x-python",
   "name": "python",
   "nbconvert_exporter": "python",
   "pygments_lexer": "ipython3",
   "version": "3.13.5"
  }
 },
 "nbformat": 4,
 "nbformat_minor": 5
}
