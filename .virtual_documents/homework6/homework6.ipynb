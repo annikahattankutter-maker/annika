import numpy as np


# ---- 1D Numpy Arrays ----
list = [20, 27, 9, 12, 31, 17, 4, 50, 39, 35]
for i in list:
    print(i*4)

print(np.mean(list))
print(np.median(list))
print(np.std(list))
print(np.argmax(list))
print(np.argmin(list))
print(np.max(list))
print(np.min(list))

arr = np.array(list)

condition = arr > 20
print(condition)

new_arr = arr[condition]
print(new_arr)


# ---- 2D Numpy Arrays ----
matrix = [[5, 12, 17, 9],
          [8, 21, 14, 3],
          [6, 13, 19, 11]]
print(np.shape(matrix))

arr = np.array(matrix)
print(arr[:, 2])
print(arr[1, :])
print(arr*2)

column_mean = np.mean(arr, axis = 0)
print(column_mean)

overall_mean = np.mean(matrix)
print(overall_mean)

find_max = np.max(arr, axis = 0)
print(find_max)
find_min = np.min(arr, axis = 0)
print(find_min)

print(arr.flatten())
# flatten() displayed the nested list in one line horizontally.

flat = arr.flatten()
print(np.argmax(flat))
print(np.argmin(flat))

print(np.unravel_index(np.argmax(flat), arr.shape))
print(np.unravel_index(np.argmin(flat), arr.shape))


boolean_arr = arr[arr > 15]
print(boolean_arr)

sorted_array = np.sort(arr)
print(sorted_array)


# ---- Prime Star Systems ----
arr = np.array([
    [2, 3, 5],
    [14, 6, 8],
    [11, 13, 17],
    [7, 10, 13]])

def remove_nonprime_rows(array):
    keep_rows = []
    for row in array:
        has_prime = False
        for n in row:
            if n >= 2:
                is_prime = True
                for i in range(2, n // 2 + 1):
                    if n % i == 0:
                        is_prime = False
                if is_prime:
                    has_prime = True
        if has_prime:
            keep_rows += [row]
    return np.array(keep_rows)

print(remove_nonprime_rows(arr))      


# ---- Lets Play Checkers ----
def zero_array():
    arr = np.zeros((8, 8))
    for i in range(0, 8, 2):
        arr[i, ::2] = 1
    return arr
print(zero_array()) 



