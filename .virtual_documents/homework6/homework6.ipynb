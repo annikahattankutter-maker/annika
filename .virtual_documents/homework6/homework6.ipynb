import numpy as np


list = [20, 27, 9, 12, 31, 17, 4, 50, 39, 35]
for i in list:
    print(i*4)

print(np.mean(list))
print(np.median(list))
print(np.std(list))
print(np.argmax(list))
print(np.argmin(list))
print(np.max(list))
print(np.min(list))

arr = np.array(list)

condition = arr > 20
print(condition)

new_arr = arr[condition]
print(new_arr)


import numpy as np


matrix = [[5, 12, 17, 9],
          [8, 21, 14, 3],
          [6, 13, 19, 11]]
print(np.shape(matrix))




