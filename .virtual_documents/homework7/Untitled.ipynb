import numpy as np
import matplotlib.pyplot as plt


data = np.loadtxt("../../course_assignments/homework7/star_data.txt", skiprows=1)
data


np.shape(data)


data[:, 0]



