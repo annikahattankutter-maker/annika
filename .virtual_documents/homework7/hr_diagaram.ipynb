import numpy as np
import matplotlib.pyplot as plt


data = np.loadtxt("../../course_assignments/homework7/star_data.txt", skiprows=1)
data


np.shape(data) # 2642 rows


magnitude = data[:, 0]
temperature = data[:, 1]

mdim = np.argmax(magnitude)   # dimmest star
mbright = np.argmin(magnitude)  # brightest star
t_hot = np.argmax(temperature)  # hottest star
tcool = np.argmin(temperature)  # coolest star



log_magnitude = np.log(magnitude)
log_temperature = np.log(temperature)

plt.figure(figsize = (8, 6))
sc = plt.scatter(log_temperature, log_magnitude, marker = '*', c = temperature, cmap = 'managua')
plt.scatter(log_temperature[mdim], log_magnitude[mdim], color = 'purple', s = 300, marker = '*', label = 'Dimmest Star')
plt.scatter(log_temperature[mbright], log_magnitude[mbright], color = 'black', s = 300, marker = '*', label = 'Brightest Star')
plt.scatter(log_temperature[t_hot], log_magnitude[t_hot], color = 'green', s = 300, marker = '*', label = 'Hottest Star')
plt.scatter(log_temperature[tcool], log_magnitude[tcool], color = 'orange', s = 300, marker = '*', label = 'Coolest Star')

plt.xscale('log')

plt.colorbar(sc, label='Temperature (K)')

plt.gca().invert_xaxis()
plt.gca().invert_yaxis()

plt.title('Hertzsprung-Russel Diagram')
plt.xlabel('Temperature (log K)')
plt.ylabel('Magnitude')

plt.legend()
plt.show()

