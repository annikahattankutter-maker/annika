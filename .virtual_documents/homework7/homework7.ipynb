import numpy as np
import matplotlib.pyplot as plt


x = np.linspace(0, 2*np.pi, 1000)
def make_sine_wave(z, A, w):
    y = A*np.sin(z*w)
    return y

y = make_sine_wave(x, 1, 1)
plt.plot(x, y)
plt.show()


amp = np.array([0.5, 1.0, 1.5, 2.0, 2.5])
freq = np.array([1.0, 2.0, 3.0, 4.0, 5.0])
amp


freq


fig, axs = plt.subplots(1,3, figsize = (25, 5))

for amp_val, freq_val in zip(amp, freq):
    y1 = make_sine_wave(x, amp_val, 1)
    y2 = make_sine_wave(x, 1, freq_val)
    y3 = make_sine_wave(x, amp_val, freq_val)
    
axs[0].plot(x, y1)
axs[1].plot(x, y2)
axs[2].plot(x, y3)

axs[0].set_title('Sine Graph With Varying Amplitude')
axs[0].set_xlabel('X Values')
axs[0].set_ylabel('Y Values')

axs[1].set_title('Sine Graph With Varying Frequency')
axs[1].set_xlabel('X Values')
axs[1].set_ylabel('Y Values')

axs[2].set_title('Sine Graph With Varying Amplitude and Frequency')
axs[2].set_xlabel('X Values')
axs[2].set_ylabel('Y Values')

plt.show()



