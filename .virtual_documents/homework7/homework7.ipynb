import numpy as np
import matplotlib.pyplot as plt


x = np.linspace(0, 2*np.pi, 1000)
def make_sine_wave(z, A, w):
    y = A*np.sin(z*w)
    return y

y = make_sine_wave(x, 1, 1)
plt.plot(x, y)
plt.show()


amplitude = np.array([0.5, 1, 1.5, 2, 2.5])
frequency = np.array([1, 2, 3, 4, 5])
amplitude


frequency


sp = plt.subplots(25, 5)
sp



